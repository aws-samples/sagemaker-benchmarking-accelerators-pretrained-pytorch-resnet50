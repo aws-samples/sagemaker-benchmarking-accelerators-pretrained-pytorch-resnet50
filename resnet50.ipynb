{
 "cells": [
  {
   "cell_type": "code",
   "execution_count": null,
   "metadata": {},
   "outputs": [],
   "source": [
    "!pip install -q -U sagemaker ipywidgets"
   ]
  },
  {
   "cell_type": "markdown",
   "metadata": {},
   "source": [
    "# ResNet-50 comparison: compiled vs uncompiled, featuring Inferentia\n",
    "\n",
    "In this notebook we will see how to deploy a pretrained model from the PyTorch Vision library, in particular a ResNet50, to Amazon SageMaker. We will also test how it performs on different hardware configurations, and the effects of model compilation with Amazon SageMaker Neo. In a nutshell, we will test:\n",
    "\n",
    "- ResNet50 on a ml.c5.xlarge, uncompiled\n",
    "- ResNet50 on a ml.g4dn.xlarge, uncompiled\n",
    "- ResNet50 on a ml.c5.xlarge, compiled\n",
    "- ResNet50 on a ml.g4dn.xlarge, compiled\n",
    "- ResNet50 on a ml.inf1.xlarge, compiled"
   ]
  },
  {
   "cell_type": "markdown",
   "metadata": {},
   "source": [
    "### Set-up model and SageMaker helper functions"
   ]
  },
  {
   "cell_type": "code",
   "execution_count": 1,
   "metadata": {},
   "outputs": [
    {
     "name": "stdout",
     "output_type": "stream",
     "text": [
      "2.59.1\n"
     ]
    }
   ],
   "source": [
    "import sagemaker\n",
    "from sagemaker import Session, get_execution_role\n",
    "from sagemaker.pytorch.model import PyTorchModel\n",
    "from sagemaker.utils import name_from_base\n",
    "\n",
    "print(sagemaker.__version__)\n",
    "\n",
    "sess = Session()\n",
    "bucket = sess.default_bucket()\n",
    "role = get_execution_role()\n",
    "endpoints = {}"
   ]
  },
  {
   "cell_type": "markdown",
   "metadata": {},
   "source": [
    "Let's download the model for the PyTorch Hub, and create an archive that can be used by SageMaker to deploy this model. For using PyTorch in Script Mode, Amazon SageMaker expects a single archive file in `.tar.gz` format, containing a model file and the code for inference in a `code` folder. The structure of the archive will be as follows: \n",
    "\n",
    "```\n",
    "/model.tar.gz\n",
    "/--- model.pth\n",
    "/--- code/\n",
    "/--- /--- inference.py\n",
    "/--- /--- requirements.txt (optional)\n",
    "```\n",
    "\n",
    "By setting the variable `download_the_model=False`, you can skip the download phase and provide your own path to S3 in the `model_data` variable."
   ]
  },
  {
   "cell_type": "code",
   "execution_count": 2,
   "metadata": {},
   "outputs": [
    {
     "name": "stdout",
     "output_type": "stream",
     "text": [
      "Model stored in s3://sagemaker-eu-west-1-859755744029/pytorch/resnet50/model.tar.gz\n"
     ]
    }
   ],
   "source": [
    "download_the_model = False\n",
    "\n",
    "if download_the_model:\n",
    "    import torch, tarfile\n",
    "    # Load the model\n",
    "    model = torch.hub.load('pytorch/vision:v0.9.0', 'resnet50', pretrained=True)\n",
    "    inp = torch.rand(1, 3, 224, 224)\n",
    "    model_trace = torch.jit.trace(model, inp)\n",
    "    # Save your model. The following code saves it with the .pth file extension\n",
    "    model_trace.save('model.pth')\n",
    "    with tarfile.open('model.tar.gz', 'w:gz') as f:\n",
    "        f.add('model.pth')\n",
    "        f.add('code/uncompiled-inference.py', 'code/inference.py')\n",
    "    f.close()\n",
    "    pytorch_resnet50_prefix = 'pytorch/resnet50'\n",
    "    model_data = sess.upload_data('model.tar.gz', bucket, pytorch_resnet50_prefix)\n",
    "else:\n",
    "    pytorch_resnet50_prefix = 'pytorch/resnet50'\n",
    "    model_data = f's3://{bucket}/{pytorch_resnet50_prefix}/model.tar.gz'\n",
    "    \n",
    "print(f'Model stored in {model_data}')"
   ]
  },
  {
   "cell_type": "markdown",
   "metadata": {},
   "source": [
    "## Deploy and test on CPU\n",
    "\n",
    "In our first test, we will deploy the model on a `ml.c5.xlarge` instance, without compiling the model. Although this is a CNN, it is still possible to run it on CPU, although the performances won't be that good. This can give us a nice baseline of the performances of our model."
   ]
  },
  {
   "cell_type": "code",
   "execution_count": 6,
   "metadata": {},
   "outputs": [],
   "source": [
    "pth_model = PyTorchModel(model_data=model_data,\n",
    "        entry_point='uncompiled-inference.py',\n",
    "        source_dir='code',\n",
    "        role=role,\n",
    "        framework_version='1.7',\n",
    "        py_version='py3'\n",
    ")"
   ]
  },
  {
   "cell_type": "code",
   "execution_count": 7,
   "metadata": {},
   "outputs": [
    {
     "name": "stdout",
     "output_type": "stream",
     "text": [
      "-------------!"
     ]
    }
   ],
   "source": [
    "predictor = pth_model.deploy(1, 'ml.c5.xlarge')"
   ]
  },
  {
   "cell_type": "code",
   "execution_count": 8,
   "metadata": {},
   "outputs": [
    {
     "data": {
      "text/plain": [
       "'pytorch-inference-2021-09-07-10-03-42-562'"
      ]
     },
     "execution_count": 8,
     "metadata": {},
     "output_type": "execute_result"
    }
   ],
   "source": [
    "endpoints['cpu_uncompiled'] = predictor.endpoint_name\n",
    "predictor.endpoint_name"
   ]
  },
  {
   "cell_type": "markdown",
   "metadata": {},
   "source": [
    "## Deploy and test on GPU\n",
    "\n",
    "The instance chosen this time is a `ml.g4dn.xlarge`. It has great throughput and the cheapest way of running GPU inferences on the AWS cloud."
   ]
  },
  {
   "cell_type": "code",
   "execution_count": 9,
   "metadata": {},
   "outputs": [],
   "source": [
    "pth_model = PyTorchModel(model_data=model_data,\n",
    "     entry_point='uncompiled-inference.py',\n",
    "     source_dir='code',\n",
    "     role=role,\n",
    "     framework_version='1.6',\n",
    "     py_version='py3'\n",
    ")"
   ]
  },
  {
   "cell_type": "code",
   "execution_count": 10,
   "metadata": {},
   "outputs": [
    {
     "name": "stdout",
     "output_type": "stream",
     "text": [
      "---------------!"
     ]
    }
   ],
   "source": [
    "predictor = pth_model.deploy(1, 'ml.g4dn.xlarge')"
   ]
  },
  {
   "cell_type": "code",
   "execution_count": 11,
   "metadata": {},
   "outputs": [
    {
     "data": {
      "text/plain": [
       "'pytorch-inference-2021-09-07-10-10-21-216'"
      ]
     },
     "execution_count": 11,
     "metadata": {},
     "output_type": "execute_result"
    }
   ],
   "source": [
    "endpoints['gpu_uncompiled'] = predictor.endpoint_name\n",
    "predictor.endpoint_name"
   ]
  },
  {
   "cell_type": "markdown",
   "metadata": {},
   "source": [
    "# Compiled Models\n",
    "\n",
    "A common tactic in more advanced use cases is to improve model performances, in terms of latency and throughput, by compiling the model. \n",
    "\n",
    "Amazon SageMaker features its own compiler, Amazon SageMaker Neo, that enables data scientists to optimize ML models for inference on SageMaker in the cloud and supported devices at the edge.\n",
    "\n",
    "You start with a machine learning model already built with DarkNet, Keras, MXNet, PyTorch, TensorFlow, TensorFlow-Lite, ONNX, or XGBoost and trained in Amazon SageMaker or anywhere else. Then you choose your target hardware platform, which can be a SageMaker hosting instance or an edge device based on processors from Ambarella, Apple, ARM, Intel, MediaTek, Nvidia, NXP, Qualcomm, RockChip, Texas Instruments, or Xilinx. With a single click, SageMaker Neo optimizes the trained model and compiles it into an executable. \n",
    "\n",
    "For inference in the cloud, SageMaker Neo speeds up inference and saves cost by creating an inference optimized container in SageMaker hosting. For inference at the edge, SageMaker Neo saves developers months of manual tuning by automatically tuning the model for the selected operating system and processor hardware."
   ]
  },
  {
   "cell_type": "markdown",
   "metadata": {},
   "source": [
    "### Create the `model_data` for compilation\n",
    "\n",
    "To compile the model, we need to provide a `tar.gz` archive just like before, with very few changes. In particular, since SageMaker will use a different DL runtime for running compiled models, we will let it use the default function for serving the model, and only provide a script containing how to preprocess data. Let's create this archive and uplaod it to S3."
   ]
  },
  {
   "cell_type": "code",
   "execution_count": 20,
   "metadata": {},
   "outputs": [],
   "source": [
    "import tarfile \n",
    "\n",
    "with tarfile.open('model-to-compile.tar.gz', 'w:gz') as f:\n",
    "    f.add('model.pth')\n",
    "    f.add('code/compiled-inference.py', 'code/inference.py')\n",
    "f.close()\n",
    "model_data = sess.upload_data('model-to-compile.tar.gz', bucket, pytorch_resnet50_prefix)"
   ]
  },
  {
   "cell_type": "code",
   "execution_count": 21,
   "metadata": {},
   "outputs": [],
   "source": [
    "output_path = f's3://{bucket}/{pytorch_resnet50_prefix}/compiled'"
   ]
  },
  {
   "cell_type": "markdown",
   "metadata": {},
   "source": [
    "## Compile for CPU\n",
    "\n",
    "Let's run the same baseline test from before, and compile and deploy for CPU instances."
   ]
  },
  {
   "cell_type": "code",
   "execution_count": 22,
   "metadata": {},
   "outputs": [],
   "source": [
    "pth_model = PyTorchModel(model_data=model_data,\n",
    "        entry_point='compiled-inference.py',\n",
    "        source_dir='code',\n",
    "        role=role,\n",
    "        framework_version='1.6',\n",
    "        py_version='py3'\n",
    ")"
   ]
  },
  {
   "cell_type": "code",
   "execution_count": 23,
   "metadata": {},
   "outputs": [
    {
     "name": "stdout",
     "output_type": "stream",
     "text": [
      "??????????????????????????????.................................................!"
     ]
    }
   ],
   "source": [
    "output_path = f's3://{bucket}/{pytorch_resnet50_prefix}/compiled'\n",
    "\n",
    "compiled_model = pth_model.compile(\n",
    "    target_instance_family='ml_c5',\n",
    "    input_shape={\"input0\": [1, 3, 224, 224]},\n",
    "    output_path=output_path,\n",
    "    role=role,\n",
    "    job_name=name_from_base(f'pytorch-resnet50-c5')\n",
    ")"
   ]
  },
  {
   "cell_type": "code",
   "execution_count": 24,
   "metadata": {},
   "outputs": [
    {
     "name": "stdout",
     "output_type": "stream",
     "text": [
      "-------------!"
     ]
    }
   ],
   "source": [
    "predictor = compiled_model.deploy(1, 'ml.c5.xlarge')"
   ]
  },
  {
   "cell_type": "code",
   "execution_count": 25,
   "metadata": {},
   "outputs": [
    {
     "data": {
      "text/plain": [
       "'sagemaker-inference-pytorch-ml-c5-2021-09-07-12-25-17-340'"
      ]
     },
     "execution_count": 25,
     "metadata": {},
     "output_type": "execute_result"
    }
   ],
   "source": [
    "endpoints['cpu_compiled'] = predictor.endpoint_name\n",
    "predictor.endpoint_name"
   ]
  },
  {
   "cell_type": "markdown",
   "metadata": {},
   "source": [
    "## Compile for GPU"
   ]
  },
  {
   "cell_type": "code",
   "execution_count": 26,
   "metadata": {},
   "outputs": [],
   "source": [
    "pth_model = PyTorchModel(model_data=model_data,\n",
    "                     entry_point='compiled-inference.py',\n",
    "                     source_dir='code',\n",
    "                     role=role,\n",
    "                     framework_version='1.6',\n",
    "                     py_version='py3'\n",
    "                    )"
   ]
  },
  {
   "cell_type": "code",
   "execution_count": 27,
   "metadata": {},
   "outputs": [
    {
     "name": "stdout",
     "output_type": "stream",
     "text": [
      "?????????????????????????????........................................!"
     ]
    }
   ],
   "source": [
    "output_path = f's3://{bucket}/{pytorch_resnet50_prefix}/compiled'\n",
    "\n",
    "compiled_model = pth_model.compile(\n",
    "    target_instance_family='ml_g4dn',\n",
    "    input_shape={\"input0\": [1, 3, 224, 224]},\n",
    "    output_path=output_path,\n",
    "    role=role,\n",
    "    job_name=name_from_base(f'pytorch-resnet50-g4dn')\n",
    ")"
   ]
  },
  {
   "cell_type": "code",
   "execution_count": 28,
   "metadata": {},
   "outputs": [
    {
     "name": "stdout",
     "output_type": "stream",
     "text": [
      "-------!"
     ]
    }
   ],
   "source": [
    "predictor = compiled_model.deploy(1, 'ml.g4dn.xlarge')"
   ]
  },
  {
   "cell_type": "code",
   "execution_count": 29,
   "metadata": {},
   "outputs": [
    {
     "data": {
      "text/plain": [
       "'sagemaker-inference-pytorch-ml-g4dn-2021-09-07-12-37-49-434'"
      ]
     },
     "execution_count": 29,
     "metadata": {},
     "output_type": "execute_result"
    }
   ],
   "source": [
    "endpoints['gpu_compiled'] = predictor.endpoint_name\n",
    "predictor.endpoint_name"
   ]
  },
  {
   "cell_type": "code",
   "execution_count": 30,
   "metadata": {},
   "outputs": [
    {
     "name": "stdout",
     "output_type": "stream",
     "text": [
      "1\n"
     ]
    }
   ],
   "source": [
    "print(1)"
   ]
  },
  {
   "cell_type": "markdown",
   "metadata": {},
   "source": [
    "## Compile for Inferentia instances\n",
    "\n",
    "There is one more thing we can try to improve our model performances: using Inferentia instances.\n",
    "\n",
    "Amazon EC2 Inf1 instances deliver high-performance ML inference at the lowest cost in the cloud. They deliver up to 2.3x higher throughput and up to 70% lower cost per inference than comparable current generation GPU-based Amazon EC2 instances. Inf1 instances are built from the ground up to support machine learning inference applications. They feature up to 16 AWS Inferentia chips, high-performance machine learning inference chips designed and built by AWS."
   ]
  },
  {
   "cell_type": "code",
   "execution_count": 31,
   "metadata": {},
   "outputs": [],
   "source": [
    "pth_model = PyTorchModel(\n",
    "    model_data=model_data,\n",
    "    entry_point='compiled-inference.py',\n",
    "    source_dir='code',\n",
    "    role=role,\n",
    "    framework_version='1.7',\n",
    "    py_version='py3'\n",
    ")"
   ]
  },
  {
   "cell_type": "code",
   "execution_count": 32,
   "metadata": {},
   "outputs": [
    {
     "name": "stdout",
     "output_type": "stream",
     "text": [
      "?????????????????????????????.........................................................................!"
     ]
    },
    {
     "name": "stderr",
     "output_type": "stream",
     "text": [
      "Defaulting to the only supported framework/algorithm version: 1.5.1. Ignoring framework/algorithm version: 1.7.\n"
     ]
    }
   ],
   "source": [
    "compiled_model = pth_model.compile(\n",
    "    target_instance_family='ml_inf1',\n",
    "    input_shape={\"input0\": [1, 3, 224, 224]},\n",
    "    output_path=output_path,\n",
    "    role=role,\n",
    "    job_name=name_from_base(f'pytorch-resnet50-inf1'),\n",
    "    compile_max_run=1000\n",
    ")"
   ]
  },
  {
   "cell_type": "code",
   "execution_count": null,
   "metadata": {},
   "outputs": [
    {
     "name": "stdout",
     "output_type": "stream",
     "text": [
      "-----------------!"
     ]
    }
   ],
   "source": [
    "predictor = compiled_model.deploy(1, 'ml.inf1.xlarge')"
   ]
  },
  {
   "cell_type": "code",
   "execution_count": null,
   "metadata": {},
   "outputs": [
    {
     "data": {
      "text/plain": [
       "'sagemaker-neo-pytorch-ml-inf1-2021-09-07-12-50-06-034'"
      ]
     },
     "execution_count": 34,
     "metadata": {},
     "output_type": "execute_result"
    }
   ],
   "source": [
    "endpoints['inferentia'] = predictor.endpoint_name\n",
    "predictor.endpoint_name"
   ]
  },
  {
   "cell_type": "markdown",
   "metadata": {},
   "source": [
    "# Test"
   ]
  },
  {
   "cell_type": "markdown",
   "metadata": {},
   "source": [
    "For testing our models and endpoints, we will use the following picture of a beagle pup, freely available on [Wikimedia](https://commons.wikimedia.org/wiki/File:Beagle_puppy_sitting_on_grass.jpg). We will pass it to our endpoints as `application/x-image`, and no particular pre-processing is needed on client-side. "
   ]
  },
  {
   "cell_type": "code",
   "execution_count": 38,
   "metadata": {},
   "outputs": [
    {
     "data": {
      "image/jpeg": "[encoded data removed]",
      "text/plain": [
       "<IPython.core.display.Image object>"
      ]
     },
     "execution_count": 38,
     "metadata": {},
     "output_type": "execute_result"
    }
   ],
   "source": [
    "from IPython.display import Image\n",
    "\n",
    "Image('doggo.jpg')"
   ]
  },
  {
   "cell_type": "markdown",
   "metadata": {},
   "source": [
    "Finally, we will use the following function to benchmark our SageMaker endpoints, measuring the latency of our predictions. This specific version uses both the `Predictor` from the SageMaker Python SDK and boto3's `invoke_endpoint()` function - just change the last parameter from `boto3` to `sm` if you want to use the Python SDK."
   ]
  },
  {
   "cell_type": "code",
   "execution_count": 40,
   "metadata": {},
   "outputs": [
    {
     "data": {
      "application/json": {
       "cpu_compiled": "sagemaker-inference-pytorch-ml-c5-2021-09-07-12-25-17-340",
       "cpu_uncompiled": "pytorch-inference-2021-09-07-10-03-42-562",
       "gpu_compiled": "sagemaker-inference-pytorch-ml-g4dn-2021-09-07-12-37-49-434",
       "gpu_uncompiled": "pytorch-inference-2021-09-07-10-10-21-216",
       "inferentia": "sagemaker-neo-pytorch-ml-inf1-2021-09-07-12-50-06-034"
      },
      "text/plain": [
       "<IPython.core.display.JSON object>"
      ]
     },
     "execution_count": 40,
     "metadata": {
      "application/json": {
       "expanded": false,
       "root": "root"
      }
     },
     "output_type": "execute_result"
    }
   ],
   "source": [
    "from load_test import load_tester\n",
    "\n",
    "num_thread = 16\n",
    "\n",
    "from IPython.display import JSON\n",
    "JSON(endpoints)"
   ]
  },
  {
   "cell_type": "code",
   "execution_count": 41,
   "metadata": {},
   "outputs": [
    {
     "name": "stdout",
     "output_type": "stream",
     "text": [
      "Using boto3 for requests.\n",
      " TPS  |  P50  |  P90  |  P95  |  P99  |  err  \n",
      "0.000|0.00000|0.00000|0.00000|0.00000 |   0\n",
      "0.000|0.00000|0.00000|0.00000|0.00000 |   0\n",
      "0.000|0.00000|0.00000|0.00000|0.00000 |   0\n",
      "0.000|0.00000|0.00000|0.00000|0.00000 |   0\n",
      "0.000|0.00000|0.00000|0.00000|0.00000 |   0\n",
      "0.000|0.00000|0.00000|0.00000|0.00000 |   0\n",
      "0.000|0.00000|0.00000|0.00000|0.00000 |   0\n",
      "0.000|0.00000|0.00000|0.00000|0.00000 |   0\n",
      "0.000|0.00000|0.00000|0.00000|0.00000 |   0\n",
      "0.000|0.00000|0.00000|0.00000|0.00000 |   0\n",
      "0.000|0.00000|0.00000|0.00000|0.00000 |   0\n",
      "0.000|0.00000|0.00000|0.00000|0.00000 |   0\n",
      "0.000|0.00000|0.00000|0.00000|0.00000 |   0\n",
      "0.000|0.00000|0.00000|0.00000|0.00000 |   0\n",
      "0.000|0.00000|0.00000|0.00000|0.00000 |   0\n",
      "0.000|0.00000|0.00000|0.00000|0.00000 |   0\n",
      "0.000|0.00000|0.00000|0.00000|0.00000 |   0\n",
      "0.000|0.00000|0.00000|0.00000|0.00000 |   0\n",
      "0.000|0.00000|0.00000|0.00000|0.00000 |   0\n",
      "0.000|0.00000|0.00000|0.00000|0.00000 |   0\n"
     ]
    }
   ],
   "source": [
    "# CPU - Uncompiled\n",
    "load_tester(num_thread, endpoints['cpu_uncompiled'], 'doggo.jpg', 'boto3')"
   ]
  },
  {
   "cell_type": "markdown",
   "metadata": {},
   "source": [
    "Let's discuss the above results:\n",
    "\n",
    "as we can from the latency tests, the model way too long to generate an inference, averaging about 6 transactions per second (TPS). This of course may be sufficient for some low throughput use cases, rarely used instances, but it's very likely that it won't be sufficient. Let's see how those numbers change when using a GPU."
   ]
  },
  {
   "cell_type": "code",
   "execution_count": 42,
   "metadata": {},
   "outputs": [
    {
     "name": "stdout",
     "output_type": "stream",
     "text": [
      "Using boto3 for requests.\n",
      " TPS  |  P50  |  P90  |  P95  |  P99  |  err  \n",
      "0.000|0.00000|0.00000|0.00000|0.00000 |   0\n",
      "0.000|0.00000|0.00000|0.00000|0.00000 |   0\n",
      "0.000|0.00000|0.00000|0.00000|0.00000 |   0\n",
      "9.200|10.85324|22.18650|22.26199|23.69191 |   0\n",
      "71.500|21.53871|23.70445|25.20740|28.01473 |   0\n",
      "71.900|21.79319|24.53958|25.43326|28.38539 |   0\n",
      "72.000|21.58591|23.73577|24.25023|26.32736 |   0\n",
      "73.400|21.37733|23.23637|24.24449|26.57287 |   0\n",
      "72.800|21.23121|23.29946|25.44296|32.62801 |   0\n",
      "73.400|21.37582|22.86602|24.38462|28.47032 |   0\n",
      "73.100|21.21317|22.69690|24.19345|30.27211 |   0\n",
      "73.300|21.19298|22.83188|23.49467|25.20904 |   0\n",
      "75.000|21.12057|22.21320|22.60185|23.19868 |   0\n",
      "75.000|21.16529|21.97788|22.27166|23.58051 |   0\n",
      "74.200|21.12383|22.47938|23.33581|28.51392 |   0\n",
      "75.100|21.11561|21.98023|22.41685|22.98924 |   0\n",
      "74.400|21.19755|22.32924|22.73939|23.67644 |   0\n",
      "74.000|21.38523|22.61311|23.12513|25.05483 |   0\n",
      "74.900|21.12604|22.30694|22.74566|23.23245 |   0\n",
      "74.700|21.19393|22.46906|23.18006|23.88001 |   0\n"
     ]
    }
   ],
   "source": [
    "# GPU - Uncompiled\n",
    "load_tester(num_thread, endpoints['gpu_uncompiled'], 'doggo.jpg', 'boto3')"
   ]
  },
  {
   "cell_type": "markdown",
   "metadata": {},
   "source": [
    "Now we're talking! The GPU helps us achieve 77 TPS on average, with a much lower latency percentile over the board. Nice!"
   ]
  },
  {
   "cell_type": "code",
   "execution_count": 44,
   "metadata": {},
   "outputs": [
    {
     "name": "stdout",
     "output_type": "stream",
     "text": [
      "Using boto3 for requests.\n",
      " TPS  |  P50  |  P90  |  P95  |  P99  |  err  \n",
      "0.000|0.00000|0.00000|0.00000|0.00000 |   0\n",
      "0.000|0.00000|0.00000|0.00000|0.00000 |   0\n",
      "0.000|0.00000|0.00000|0.00000|0.00000 |   0\n",
      "0.000|0.00000|0.00000|0.00000|0.00000 |   0\n",
      "0.000|0.00000|0.00000|0.00000|0.00000 |   0\n",
      "0.000|0.00000|0.00000|0.00000|0.00000 |   0\n",
      "0.000|0.00000|0.00000|0.00000|0.00000 |   0\n",
      "0.000|0.00000|0.00000|0.00000|0.00000 |   0\n",
      "0.000|0.00000|0.00000|0.00000|0.00000 |   0\n",
      "0.000|0.00000|0.00000|0.00000|0.00000 |   0\n",
      "0.000|0.00000|0.00000|0.00000|0.00000 |   0\n",
      "0.000|0.00000|0.00000|0.00000|0.00000 |   0\n",
      "0.000|0.00000|0.00000|0.00000|0.00000 |   0\n",
      "7.600|120.42121|123.64104|123.86788|123.95371 |   0\n",
      "13.100|120.48366|123.04369|123.69538|124.08906 |   0\n",
      "13.200|120.50211|122.94874|123.17752|124.06941 |   0\n",
      "13.200|121.06810|123.01881|123.84865|125.32110 |   0\n",
      "13.200|121.15562|123.42339|125.28814|127.76958 |   0\n",
      "13.100|121.39665|123.42952|125.24788|127.70211 |   0\n",
      "12.900|121.60897|124.09759|125.45780|128.35904 |   0\n"
     ]
    }
   ],
   "source": [
    "# CPU - Compiled\n",
    "load_tester(num_thread, endpoints['cpu_compiled'], 'doggo.jpg', 'boto3')"
   ]
  },
  {
   "cell_type": "markdown",
   "metadata": {},
   "source": [
    "With a simple compilation job, we more than DOUBLED the performances of our model on our c5 instance, achieving 13 TPS and half the latency percentiles. Let's see if the same results can be seen on GPU."
   ]
  },
  {
   "cell_type": "code",
   "execution_count": 45,
   "metadata": {},
   "outputs": [
    {
     "name": "stdout",
     "output_type": "stream",
     "text": [
      "Using boto3 for requests.\n",
      " TPS  |  P50  |  P90  |  P95  |  P99  |  err  \n",
      "0.000|0.00000|0.00000|0.00000|0.00000 |   0\n",
      "0.000|0.00000|0.00000|0.00000|0.00000 |   0\n",
      "55.900|11.48612|12.40023|13.15037|14.25035 |   0\n",
      "131.400|11.68995|13.39673|13.78012|15.37327 |   0\n",
      "139.000|11.37640|12.07333|12.37671|13.79065 |   0\n",
      "134.700|11.40003|12.68625|14.82009|15.96584 |   0\n",
      "137.900|11.32163|11.91171|12.52807|13.93785 |   0\n",
      "140.700|11.30373|11.51523|11.81494|12.68626 |   0\n",
      "141.100|11.30497|11.41614|11.60432|12.04779 |   0\n",
      "140.900|11.31865|11.49092|11.57372|12.07680 |   0\n",
      "141.100|11.30891|11.40645|11.44562|12.15103 |   0\n",
      "141.100|10.66126|11.37022|11.42496|12.39396 |   0\n",
      "141.000|11.20392|11.39594|11.54155|64.40776 |   0\n",
      "141.000|10.63911|11.38441|11.48489|74.37010 |   0\n",
      "141.000|11.34152|11.42385|11.45893|12.04504 |   0\n",
      "140.500|11.36442|11.47366|11.51774|12.13268 |   0\n",
      "140.400|11.35737|11.47390|11.59941|12.54060 |   0\n",
      "140.600|11.37184|11.45717|11.51071|11.78939 |   0\n",
      "139.800|10.72254|11.49701|11.68379|13.92954 |   0\n",
      "140.400|11.28725|11.47596|11.51790|12.30934 |   0\n"
     ]
    }
   ],
   "source": [
    "# GPU - Compiled\n",
    "load_tester(num_thread, endpoints['gpu_compiled'], 'doggo.jpg', 'boto3')"
   ]
  },
  {
   "cell_type": "markdown",
   "metadata": {},
   "source": [
    "Results are also consistent in the compiled version of the model on GPU. Almost double the TPS, with 7 ms latency. Let's take it one step further and test Inferentia."
   ]
  },
  {
   "cell_type": "code",
   "execution_count": 46,
   "metadata": {},
   "outputs": [
    {
     "name": "stdout",
     "output_type": "stream",
     "text": [
      "Using boto3 for requests.\n",
      " TPS  |  P50  |  P90  |  P95  |  P99  |  err  \n",
      "0.000|0.00000|0.00000|0.00000|0.00000 |   0\n",
      "0.000|0.00000|0.00000|0.00000|0.00000 |   0\n",
      "81.700|6.14657|8.32210|9.31072|12.77543 |   0\n",
      "253.200|5.41568|7.05530|7.84966|10.01635 |   0\n",
      "240.300|5.12526|7.77921|9.04336|11.26251 |   0\n",
      "303.300|4.69739|5.75013|6.06972|7.27424 |   0\n",
      "313.600|4.96964|5.75164|6.03155|6.80960 |   0\n",
      "307.400|4.93165|5.92266|6.41916|7.70949 |   0\n",
      "310.800|4.79369|5.73405|6.08640|6.69261 |   0\n",
      "311.100|4.98561|5.89341|6.25333|7.16342 |   0\n",
      "302.900|4.60875|6.06731|6.52464|7.91496 |   0\n",
      "317.800|4.86537|5.89627|6.30143|7.33653 |   0\n",
      "316.900|4.77403|5.75155|6.14105|10.11793 |   0\n",
      "306.100|5.05548|6.44793|6.96836|7.90160 |   0\n",
      "307.800|5.09911|6.10489|6.36970|6.96912 |   0\n",
      "301.700|4.28494|5.48185|5.94334|62.37148 |   0\n",
      "304.700|5.25115|6.38976|6.85223|7.81982 |   0\n",
      "313.100|4.98388|5.91286|6.19656|6.90157 |   0\n",
      "311.000|4.98880|5.90766|6.31630|7.07209 |   0\n",
      "304.300|4.90315|6.08779|6.50648|7.75578 |   0\n"
     ]
    }
   ],
   "source": [
    "# Inferentia\n",
    "load_tester(num_thread, endpoints['inferentia'], 'doggo.jpg', 'boto3')"
   ]
  },
  {
   "cell_type": "markdown",
   "metadata": {},
   "source": [
    "The best results so far! Up to 290 TPS at the same latency percentiles than GPU, or lower. All of this for a fraction of the cost."
   ]
  },
  {
   "cell_type": "markdown",
   "metadata": {},
   "source": [
    "# Reviewing the results\n",
    "\n",
    "Let's plot the results obtained from the previous tests, by taking into account the last printed line of each load testing. We will ignore the error rate, and take into account the TPS obtained with our tests dividing it by the cost of the machine in the region of testing (DUB) - a metric we will call \"throughput per dollar\"."
   ]
  },
  {
   "cell_type": "code",
   "execution_count": 47,
   "metadata": {},
   "outputs": [],
   "source": [
    "import matplotlib.pyplot as plt\n",
    "from io import StringIO\n",
    "import pandas as pd\n",
    "\n",
    "data = StringIO('''\n",
    "experiment|TPS|p50|cost/hour\n",
    "c5|5.900|215.23876|0.23\n",
    "c5 + Neo|12.900|121.60897|0.23\n",
    "g4dn|74.700|21.19393|0.821\n",
    "g4dn + Neo|140.400|11.28725|0.821\n",
    "inf1|304.300|4.90315|0.33\n",
    "''')\n",
    "\n",
    "df = pd.read_csv(data, sep='|')\n",
    "df['throughput per dollar (divided by 100, higher is better)'] = df['TPS']/df['cost/hour']/100 # Divide by 100 to normalize\n",
    "df['cost per 1M inferences in $ (lower is better)'] = (1000000/df['TPS'])/3600*df['cost/hour']"
   ]
  },
  {
   "cell_type": "code",
   "execution_count": 48,
   "metadata": {},
   "outputs": [
    {
     "data": {
      "image/png": "[encoded data removed]",
      "text/plain": [
       "<Figure size 576x360 with 1 Axes>"
      ]
     },
     "metadata": {
      "needs_background": "light"
     },
     "output_type": "display_data"
    }
   ],
   "source": [
    "ax = df.plot(x=\"experiment\", y=\"throughput per dollar (divided by 100, higher is better)\", legend=False, linewidth=3, color=\"red\")\n",
    "df.plot(x=\"experiment\", y=\"cost per 1M inferences in $ (lower is better)\", ax=ax, legend=False, color=\"green\", linewidth=3)\n",
    "for x in df.experiment:\n",
    "    plt.axvline(x=x, ls='--', color='black', linewidth=1)\n",
    "ax.figure.legend()\n",
    "plt.rcParams[\"figure.figsize\"] = (8,5)\n",
    "plt.savefig('cost-effective-inference.png', dpi=300, format='png')\n",
    "plt.show()"
   ]
  },
  {
   "cell_type": "markdown",
   "metadata": {},
   "source": [
    "The results speak for themselves. The `inf1` instance proves extremely competitive, thanks to its high TPS, incredibly low latency and undeniable value. Compiling the model for a GPU just like the `g4dn` is also a very interesting approach."
   ]
  },
  {
   "cell_type": "markdown",
   "metadata": {},
   "source": [
    "# Clean-up"
   ]
  },
  {
   "cell_type": "code",
   "execution_count": null,
   "metadata": {},
   "outputs": [],
   "source": [
    "for endpoint in endpoints:\n",
    "    pred = sagemaker.predictor.Predictor(endpoint_name=endpoints[endpoint])\n",
    "    pred.delete_endpoint()"
   ]
  },
  {
   "cell_type": "code",
   "execution_count": null,
   "metadata": {},
   "outputs": [],
   "source": []
  }
 ],
 "metadata": {
  "interpreter": {
   "hash": "ac2eaa0ea0ebeafcc7822e65e46aa9d4f966f30b695406963e145ea4a91cd4fc"
  },
  "kernelspec": {
   "display_name": "Python 3 (Data Science)",
   "language": "python",
   "name": "python3__SAGEMAKER_INTERNAL__arn:aws:sagemaker:eu-west-1:470317259841:image/datascience-1.0"
  },
  "language_info": {
   "codemirror_mode": {
    "name": "ipython",
    "version": 3
   },
   "file_extension": ".py",
   "mimetype": "text/x-python",
   "name": "python",
   "nbconvert_exporter": "python",
   "pygments_lexer": "ipython3",
   "version": "3.7.10"
  }
 },
 "nbformat": 4,
 "nbformat_minor": 4
}
